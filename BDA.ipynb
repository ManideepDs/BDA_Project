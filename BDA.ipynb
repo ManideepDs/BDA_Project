{
 "cells": [
  {
   "cell_type": "code",
   "execution_count": 1,
   "metadata": {},
   "outputs": [],
   "source": [
    "from pyspark.context import SparkContext\n",
    "from pyspark.sql.session import SparkSession\n",
    "sc = SparkContext('local')\n",
    "spark = SparkSession(sc)"
   ]
  },
  {
   "cell_type": "code",
   "execution_count": 2,
   "metadata": {},
   "outputs": [],
   "source": [
    "from pyspark.sql.functions import *"
   ]
  },
  {
   "cell_type": "code",
   "execution_count": 3,
   "metadata": {},
   "outputs": [
    {
     "name": "stdout",
     "output_type": "stream",
     "text": [
      "+--------------------+-----------+---------+-------------------+--------------------+-----------+--------+\n",
      "|             song_id|song_length|genre_ids|        artist_name|            composer|   lyricist|language|\n",
      "+--------------------+-----------+---------+-------------------+--------------------+-----------+--------+\n",
      "|CXoTN1eb7AI+DntdU...|     247640|      465|張信哲 (Jeff Chang)|                董貞|     何啟弘|     3.0|\n",
      "|o0kFgae9QtnYgRkVP...|     197328|      444|          BLACKPINK|TEDDY|  FUTURE BO...|      TEDDY|    31.0|\n",
      "|DwVvVurfpuz+XPuFv...|     231781|      465|       SUPER JUNIOR|                null|       null|    31.0|\n",
      "|dKMBWoZyScdxSkihK...|     273554|      465|              S.H.E|              湯小康|     徐世珍|     3.0|\n",
      "|W3bqWd3T+VeHFzHAU...|     140329|      726|           貴族精選|         Traditional|Traditional|    52.0|\n",
      "+--------------------+-----------+---------+-------------------+--------------------+-----------+--------+\n",
      "only showing top 5 rows\n",
      "\n"
     ]
    }
   ],
   "source": [
    "songs_df = spark.read.option('infer_schema','true').option('header','true').csv('/Users/mahi/Downloads/kkbox-music-recommendation-challenge/songs.csv')\n",
    "songs_df.show(5)"
   ]
  },
  {
   "cell_type": "code",
   "execution_count": 4,
   "metadata": {},
   "outputs": [
    {
     "data": {
      "text/plain": [
       "1047"
      ]
     },
     "execution_count": 4,
     "metadata": {},
     "output_type": "execute_result"
    }
   ],
   "source": [
    "songs_df.select('genre_ids').distinct().count()"
   ]
  },
  {
   "cell_type": "code",
   "execution_count": 5,
   "metadata": {},
   "outputs": [
    {
     "data": {
      "text/plain": [
       "2296833"
      ]
     },
     "execution_count": 5,
     "metadata": {},
     "output_type": "execute_result"
    }
   ],
   "source": [
    "songs_df.count()"
   ]
  },
  {
   "cell_type": "code",
   "execution_count": 6,
   "metadata": {},
   "outputs": [
    {
     "data": {
      "text/plain": [
       "329875"
      ]
     },
     "execution_count": 6,
     "metadata": {},
     "output_type": "execute_result"
    }
   ],
   "source": [
    "songs_df.select('composer').distinct().count()"
   ]
  },
  {
   "cell_type": "code",
   "execution_count": 7,
   "metadata": {},
   "outputs": [
    {
     "name": "stdout",
     "output_type": "stream",
     "text": [
      "+--------------------+--------------------+-----------------+-------------------+---------------+------+\n",
      "|                msno|             song_id|source_system_tab| source_screen_name|    source_type|target|\n",
      "+--------------------+--------------------+-----------------+-------------------+---------------+------+\n",
      "|FGtllVqz18RPiwJj/...|BBzumQNXUHKdEBOB7...|          explore|            Explore|online-playlist|     1|\n",
      "|Xumu+NIjS6QYVxDS4...|bhp/MpSNoqoxOIB+/...|       my library|Local playlist more| local-playlist|     1|\n",
      "|Xumu+NIjS6QYVxDS4...|JNWfrrC7zNN7BdMps...|       my library|Local playlist more| local-playlist|     1|\n",
      "|Xumu+NIjS6QYVxDS4...|2A87tzfnJTSWqD7gI...|       my library|Local playlist more| local-playlist|     1|\n",
      "|FGtllVqz18RPiwJj/...|3qm6XTZ6MOCU11x8F...|          explore|            Explore|online-playlist|     1|\n",
      "+--------------------+--------------------+-----------------+-------------------+---------------+------+\n",
      "only showing top 5 rows\n",
      "\n"
     ]
    }
   ],
   "source": [
    "train_df = spark.read.option('infer_schema','true').option('header','true').csv('/Users/mahi/Downloads/kkbox-music-recommendation-challenge/train.csv')\n",
    "train_df.show(5)"
   ]
  },
  {
   "cell_type": "code",
   "execution_count": 8,
   "metadata": {},
   "outputs": [
    {
     "data": {
      "text/plain": [
       "30755"
      ]
     },
     "execution_count": 8,
     "metadata": {},
     "output_type": "execute_result"
    }
   ],
   "source": [
    "train_df.select('msno').distinct().count()"
   ]
  },
  {
   "cell_type": "code",
   "execution_count": 9,
   "metadata": {},
   "outputs": [
    {
     "data": {
      "text/plain": [
       "7377418"
      ]
     },
     "execution_count": 9,
     "metadata": {},
     "output_type": "execute_result"
    }
   ],
   "source": [
    "train_df.count()"
   ]
  },
  {
   "cell_type": "code",
   "execution_count": 10,
   "metadata": {},
   "outputs": [
    {
     "data": {
      "text/plain": [
       "3714656"
      ]
     },
     "execution_count": 10,
     "metadata": {},
     "output_type": "execute_result"
    }
   ],
   "source": [
    "train_df.where(train_df.target==1).count()"
   ]
  },
  {
   "cell_type": "code",
   "execution_count": 11,
   "metadata": {},
   "outputs": [
    {
     "data": {
      "text/plain": [
       "3662762"
      ]
     },
     "execution_count": 11,
     "metadata": {},
     "output_type": "execute_result"
    }
   ],
   "source": [
    "train_df.where(train_df.target==0).count()"
   ]
  },
  {
   "cell_type": "code",
   "execution_count": 12,
   "metadata": {},
   "outputs": [],
   "source": [
    "train_df_sample = train_df.sample(0.1,10)"
   ]
  },
  {
   "cell_type": "code",
   "execution_count": 13,
   "metadata": {},
   "outputs": [
    {
     "data": {
      "text/plain": [
       "0.5036492390977118"
      ]
     },
     "execution_count": 13,
     "metadata": {},
     "output_type": "execute_result"
    }
   ],
   "source": [
    "train_df_sample.where(train_df_sample.target==1).count()/train_df_sample.count()"
   ]
  },
  {
   "cell_type": "code",
   "execution_count": 14,
   "metadata": {},
   "outputs": [
    {
     "data": {
      "text/plain": [
       "0.49635076090228825"
      ]
     },
     "execution_count": 14,
     "metadata": {},
     "output_type": "execute_result"
    }
   ],
   "source": [
    "train_df_sample.where(train_df_sample.target==0).count()/train_df_sample.count()"
   ]
  },
  {
   "cell_type": "code",
   "execution_count": 15,
   "metadata": {},
   "outputs": [],
   "source": [
    "#train_df_updated = train_df.select(concat_ws(' listened ', train_df.msno,train_df.song_id).alias('user-song-pair'))"
   ]
  },
  {
   "cell_type": "code",
   "execution_count": 16,
   "metadata": {},
   "outputs": [
    {
     "data": {
      "text/plain": [
       "[Row(msno='0ImlcZdGXwmJtYpwv7a3Hxwt+IhksSDz+ZYBFfaPANo=', count=31),\n",
       " Row(msno='8HdGEX5lHlImmy5Q6wMB0nWq8KxpCIlUz7Yq9t7rzdU=', count=40),\n",
       " Row(msno='MCmkCY0A7mQ9Bnam/Ln/bGhVzoyqai1eQ8TcugeH0PI=', count=11),\n",
       " Row(msno='VMn4RIfwYGqgC8Cxq39kaOLVGiR6T9+almmLGooO7Uk=', count=53),\n",
       " Row(msno='VNBKSYAB2rPCwRr9qF7k2DWahB5a7/vUOnCjdMNKQ4E=', count=8),\n",
       " Row(msno='buKhmin3ZO/WIqG2Tq27s5qzpz1rNuoXczuMA6Kj8hI=', count=23),\n",
       " Row(msno='cjrLqFlFZ5TlqIaiwzJMmde5o1nYKbNOGPA/FBR/rtU=', count=7),\n",
       " Row(msno='dLFvzIVbfES/pWPNYW4RP/NdP01kI3FGv/G2kpbO2sg=', count=37),\n",
       " Row(msno='jdJAk1ldbv+15mziwsvfc4/Hoz7kdW9b8F7OvY1Hog8=', count=38),\n",
       " Row(msno='vb2J2H2GlF6ensG79o/Gdnku4AqJ4OyBdvDzRrjgnd8=', count=30)]"
      ]
     },
     "execution_count": 16,
     "metadata": {},
     "output_type": "execute_result"
    }
   ],
   "source": [
    "sorted(train_df_sample.groupBy('msno').count().take(10))"
   ]
  },
  {
   "cell_type": "code",
   "execution_count": 17,
   "metadata": {},
   "outputs": [
    {
     "data": {
      "text/plain": [
       "[Row(msno='zzqc2ja7z10FtSpagYVcAZXg/gPRq7wcDZuNFj+zJSU=', song_id='ES86JRfxcI9nxEfNv70Y772KQc9gxpykvAD7XRTsBgM=', target='1', count=1),\n",
       " Row(msno='zzqc2ja7z10FtSpagYVcAZXg/gPRq7wcDZuNFj+zJSU=', song_id='4/1fO/IntKU59fWJxjhDoVBUPJ3uXTtWpUzKlzdPoQs=', target='1', count=1),\n",
       " Row(msno='zzqc2ja7z10FtSpagYVcAZXg/gPRq7wcDZuNFj+zJSU=', song_id='51ipy1Ml1KpQS7Mc7LP4QibZpxvem1o80A07gnAjM4U=', target='1', count=1),\n",
       " Row(msno='zzqc2ja7z10FtSpagYVcAZXg/gPRq7wcDZuNFj+zJSU=', song_id='quxZPlPUmS8QsJcSjHdn6zE1quBWk7w4ii3rLgOaawQ=', target='1', count=1),\n",
       " Row(msno='zzqc2ja7z10FtSpagYVcAZXg/gPRq7wcDZuNFj+zJSU=', song_id='4/f7S7iNOygpoPNxUzMv7jOPLg4HGYhpbEO7i41zUzU=', target='1', count=1),\n",
       " Row(msno='zzqc2ja7z10FtSpagYVcAZXg/gPRq7wcDZuNFj+zJSU=', song_id='CNeGIXu4+gHp5jyQDHSvonIR4modC1vHXP7b0AytDsM=', target='1', count=1),\n",
       " Row(msno='zzqc2ja7z10FtSpagYVcAZXg/gPRq7wcDZuNFj+zJSU=', song_id='L6w2d0w84FjTvFr+BhMfgu7dZAsGiOqUGmvvxIG3gvQ=', target='1', count=1),\n",
       " Row(msno='zzqc2ja7z10FtSpagYVcAZXg/gPRq7wcDZuNFj+zJSU=', song_id='FCZStwS6Z6fqTU5k3AWltGL5M8q/MykNhI729jlIYiY=', target='1', count=1),\n",
       " Row(msno='zzqc2ja7z10FtSpagYVcAZXg/gPRq7wcDZuNFj+zJSU=', song_id='pfnlCKRD1vpfe76haKcTthXKmSTaL2h8vlYDeoGpLWw=', target='1', count=1),\n",
       " Row(msno='zzqc2ja7z10FtSpagYVcAZXg/gPRq7wcDZuNFj+zJSU=', song_id='LNZV4bSCBiltGlo7NZ/ziva2nYkpr61uu/90K6Qp76k=', target='1', count=1)]"
      ]
     },
     "execution_count": 17,
     "metadata": {},
     "output_type": "execute_result"
    }
   ],
   "source": [
    "train_df_sample.groupBy('msno','song_id','target').count().orderBy(['msno', 'target'], ascending=False).take(10)"
   ]
  },
  {
   "cell_type": "code",
   "execution_count": 18,
   "metadata": {},
   "outputs": [
    {
     "name": "stdout",
     "output_type": "stream",
     "text": [
      "+--------------------+-----------+---------+-------------------+--------------------+-----------+--------+\n",
      "|             song_id|song_length|genre_ids|        artist_name|            composer|   lyricist|language|\n",
      "+--------------------+-----------+---------+-------------------+--------------------+-----------+--------+\n",
      "|CXoTN1eb7AI+DntdU...|     247640|      465|張信哲 (Jeff Chang)|                董貞|     何啟弘|     3.0|\n",
      "|o0kFgae9QtnYgRkVP...|     197328|      444|          BLACKPINK|TEDDY|  FUTURE BO...|      TEDDY|    31.0|\n",
      "|DwVvVurfpuz+XPuFv...|     231781|      465|       SUPER JUNIOR|                null|       null|    31.0|\n",
      "|dKMBWoZyScdxSkihK...|     273554|      465|              S.H.E|              湯小康|     徐世珍|     3.0|\n",
      "|W3bqWd3T+VeHFzHAU...|     140329|      726|           貴族精選|         Traditional|Traditional|    52.0|\n",
      "+--------------------+-----------+---------+-------------------+--------------------+-----------+--------+\n",
      "only showing top 5 rows\n",
      "\n"
     ]
    }
   ],
   "source": [
    "songs_df.show(5)"
   ]
  },
  {
   "cell_type": "code",
   "execution_count": 19,
   "metadata": {},
   "outputs": [
    {
     "name": "stdout",
     "output_type": "stream",
     "text": [
      "+--------------------+--------------------+-----------------+-------------------+---------------+------+\n",
      "|                msno|             song_id|source_system_tab| source_screen_name|    source_type|target|\n",
      "+--------------------+--------------------+-----------------+-------------------+---------------+------+\n",
      "|FGtllVqz18RPiwJj/...|BBzumQNXUHKdEBOB7...|          explore|            Explore|online-playlist|     1|\n",
      "|Xumu+NIjS6QYVxDS4...|bhp/MpSNoqoxOIB+/...|       my library|Local playlist more| local-playlist|     1|\n",
      "|Xumu+NIjS6QYVxDS4...|JNWfrrC7zNN7BdMps...|       my library|Local playlist more| local-playlist|     1|\n",
      "|Xumu+NIjS6QYVxDS4...|2A87tzfnJTSWqD7gI...|       my library|Local playlist more| local-playlist|     1|\n",
      "|FGtllVqz18RPiwJj/...|3qm6XTZ6MOCU11x8F...|          explore|            Explore|online-playlist|     1|\n",
      "+--------------------+--------------------+-----------------+-------------------+---------------+------+\n",
      "only showing top 5 rows\n",
      "\n"
     ]
    }
   ],
   "source": [
    "train_df.show(5)"
   ]
  },
  {
   "cell_type": "code",
   "execution_count": 20,
   "metadata": {},
   "outputs": [
    {
     "data": {
      "text/plain": [
       "['465',\n",
       " '444',\n",
       " '465',\n",
       " '465',\n",
       " '726',\n",
       " '864|857|850|843',\n",
       " '458',\n",
       " '465',\n",
       " '465',\n",
       " '352|1995',\n",
       " '2157',\n",
       " '465',\n",
       " '726',\n",
       " '458',\n",
       " '359']"
      ]
     },
     "execution_count": 20,
     "metadata": {},
     "output_type": "execute_result"
    }
   ],
   "source": [
    "songs_df.select('genre_ids').rdd.map(lambda x:x.genre_ids).take(15)"
   ]
  },
  {
   "cell_type": "code",
   "execution_count": 21,
   "metadata": {},
   "outputs": [
    {
     "data": {
      "text/plain": [
       "[Row(genre='465'),\n",
       " Row(genre='444'),\n",
       " Row(genre='465'),\n",
       " Row(genre='465'),\n",
       " Row(genre='726'),\n",
       " Row(genre='864'),\n",
       " Row(genre='857'),\n",
       " Row(genre='850'),\n",
       " Row(genre='843'),\n",
       " Row(genre='458'),\n",
       " Row(genre='465'),\n",
       " Row(genre='465'),\n",
       " Row(genre='352'),\n",
       " Row(genre='1995'),\n",
       " Row(genre='2157'),\n",
       " Row(genre='465'),\n",
       " Row(genre='726'),\n",
       " Row(genre='458'),\n",
       " Row(genre='359'),\n",
       " Row(genre='359')]"
      ]
     },
     "execution_count": 21,
     "metadata": {},
     "output_type": "execute_result"
    }
   ],
   "source": [
    "songs_df = songs_df.withColumn('genre',explode(split(songs_df.genre_ids, \"\\|\")))\n",
    "songs_df.select('genre').take(20)"
   ]
  },
  {
   "cell_type": "code",
   "execution_count": 22,
   "metadata": {},
   "outputs": [
    {
     "name": "stdout",
     "output_type": "stream",
     "text": [
      "+--------------------+--------------------+-----------------+-------------------+-------------------+------+-----------+---------+------------+--------+--------+--------+-----+\n",
      "|             song_id|                msno|source_system_tab| source_screen_name|        source_type|target|song_length|genre_ids| artist_name|composer|lyricist|language|genre|\n",
      "+--------------------+--------------------+-----------------+-------------------+-------------------+------+-----------+---------+------------+--------+--------+--------+-----+\n",
      "|++XsB7MZl/8xl/d0/...|CUtaQQ1S5S03VKAed...|       my library|Local playlist more|      local-library|     0|     452092|      947|C'est La Vie| Honey B|    null|    -1.0|  947|\n",
      "|++XsB7MZl/8xl/d0/...|EbFZYurZKp8cx+mUO...|           search|        Artist more|top-hits-for-artist|     0|     452092|      947|C'est La Vie| Honey B|    null|    -1.0|  947|\n",
      "|++XsB7MZl/8xl/d0/...|RoSfblbwJN/izEnFI...|         discover|   Discover Feature|song-based-playlist|     1|     452092|      947|C'est La Vie| Honey B|    null|    -1.0|  947|\n",
      "|++XsB7MZl/8xl/d0/...|P2J8jjQASO4fOCRS6...|         discover|         Album more|              album|     0|     452092|      947|C'est La Vie| Honey B|    null|    -1.0|  947|\n",
      "|++XsB7MZl/8xl/d0/...|HdnZZ4P0Vjxo2tgTv...|         discover|   Discover Feature|song-based-playlist|     0|     452092|      947|C'est La Vie| Honey B|    null|    -1.0|  947|\n",
      "+--------------------+--------------------+-----------------+-------------------+-------------------+------+-----------+---------+------------+--------+--------+--------+-----+\n",
      "only showing top 5 rows\n",
      "\n"
     ]
    }
   ],
   "source": [
    "train_df_cut = train_df.join(songs_df, 'song_id')\n",
    "train_df_cut.show(5)"
   ]
  },
  {
   "cell_type": "code",
   "execution_count": 23,
   "metadata": {},
   "outputs": [],
   "source": [
    "train_cut_sample = train_df_cut.sample(0.01,3)"
   ]
  },
  {
   "cell_type": "code",
   "execution_count": 24,
   "metadata": {},
   "outputs": [
    {
     "data": {
      "text/plain": [
       "75846"
      ]
     },
     "execution_count": 24,
     "metadata": {},
     "output_type": "execute_result"
    }
   ],
   "source": [
    "train_cut_sample.count()"
   ]
  },
  {
   "cell_type": "code",
   "execution_count": 25,
   "metadata": {
    "scrolled": true
   },
   "outputs": [
    {
     "data": {
      "text/plain": [
       "[Row(msno='RoSfblbwJN/izEnFIVw8TgOpm8R/NEpUC84Oz/b32HQ=', song_id='++XsB7MZl/8xl/d0/QFmZ4TWIRDKhAQ5saiqmjznmi4=', genre='947', count=1),\n",
       " Row(msno='iJvXG1nt/tdFPK8vKBqZMZ6e1X7c07QnyBX4d4eaTgs=', song_id='+KgAKlO7+zYsMtKzuTe3nH+iXXblehvzTNZIt4DXQ9U=', genre='2122', count=1),\n",
       " Row(msno='EfcNnWocQIAEn5gw6sHktzvZXBC9c+u2HpuzrX5leOA=', song_id='+tGKT7z6HuwhZa8mRI9hE+rQDgQFZhtVCGVrQtt7bVw=', genre='465', count=1),\n",
       " Row(msno='pXrqb5LRcKCG83LnFoa20jebHP4/gRnEvzq8Ik22jzY=', song_id='0yfLxyewedjmipOOlVzrr/Od05t5Sy+TeFQE3TWFVPA=', genre='465', count=1),\n",
       " Row(msno='flouUtxucgcV+QCOOCqv09HJCI77R36fhmTDG2ZLhwc=', song_id='1H7Za3rqrfGZhzWonEKkW3BR1LfJaWlErO8nNZaldZM=', genre='444', count=1),\n",
       " Row(msno='0D+9iiB5E2zcWdnMf6BmwoihK+oIqsnRvDog21wHnec=', song_id='1H7Za3rqrfGZhzWonEKkW3BR1LfJaWlErO8nNZaldZM=', genre='444', count=1),\n",
       " Row(msno='lc8/HRnjiaPsc/cZ6o6f6uKCAwn1opP43648Mx5dSe4=', song_id='1H7Za3rqrfGZhzWonEKkW3BR1LfJaWlErO8nNZaldZM=', genre='444', count=1),\n",
       " Row(msno='HZykoHL6T7YcO50XiCxQfrt+aQAjTP2JiaKjOdYvyH0=', song_id='1UHqpOyecqH+8NytyogNdQz/2zUDpmHzUF5lgH1gvyw=', genre='465', count=1),\n",
       " Row(msno='AUVmwCOuJskwnogQAn1vOBC1GDykxCrFMlr0Ks0LSWg=', song_id='1UHqpOyecqH+8NytyogNdQz/2zUDpmHzUF5lgH1gvyw=', genre='465', count=1),\n",
       " Row(msno='rUu6rZxZAIwDKmUsqLMneejOi36NYOjrHDEdZ/oZKNI=', song_id='1UHqpOyecqH+8NytyogNdQz/2zUDpmHzUF5lgH1gvyw=', genre='465', count=1)]"
      ]
     },
     "execution_count": 25,
     "metadata": {},
     "output_type": "execute_result"
    }
   ],
   "source": [
    "train_cut_sample.groupBy('msno','song_id','genre').count().take(10)"
   ]
  },
  {
   "cell_type": "code",
   "execution_count": 26,
   "metadata": {},
   "outputs": [
    {
     "name": "stdout",
     "output_type": "stream",
     "text": [
      "+--------------------+-----+--------------+\n",
      "|                User|genre|genre_interest|\n",
      "+--------------------+-----+--------------+\n",
      "|KGXNZ/H3VxvET/+rG...|  465|            30|\n",
      "|MXIMDXO0j3UpaT7Fv...|  465|            28|\n",
      "|cqjRBV/jWN2ujhc+z...|  465|            25|\n",
      "|JkQacE3rvmhh65R04...|  465|            24|\n",
      "|mGDObQQojFOJfK2rJ...|  465|            23|\n",
      "+--------------------+-----+--------------+\n",
      "only showing top 5 rows\n",
      "\n"
     ]
    }
   ],
   "source": [
    "user_genre = train_cut_sample.select('msno','genre').groupBy('msno','genre').count().rdd.map(lambda x: x).toDF(['User', 'genre', 'genre_interest'])\n",
    "user_genre.orderBy('genre_interest', ascending=False).show(5)"
   ]
  },
  {
   "cell_type": "code",
   "execution_count": 27,
   "metadata": {},
   "outputs": [
    {
     "name": "stdout",
     "output_type": "stream",
     "text": [
      "+--------------------+-------------------------+---------------+\n",
      "|                User|              artist_name|artist_interest|\n",
      "+--------------------+-------------------------+---------------+\n",
      "|cg775T0DlPU4gthIR...|        江蕙 (Jody Jiang)|              6|\n",
      "|nkSobo2abUYPOD4T2...|          五月天 (Mayday)|              6|\n",
      "|2tmUzRCcD0l3et0ck...|証聲音樂圖書館 ECHO MUSIC|              6|\n",
      "|MXIMDXO0j3UpaT7Fv...|証聲音樂圖書館 ECHO MUSIC|              6|\n",
      "|l49SPru9KzNKnBIzi...|            吳兆南+魏龍豪|              6|\n",
      "+--------------------+-------------------------+---------------+\n",
      "only showing top 5 rows\n",
      "\n"
     ]
    }
   ],
   "source": [
    "user_artist = train_cut_sample.select('msno','artist_name').groupBy('msno','artist_name').count().rdd.map(lambda x: x).toDF(['User', 'artist_name', 'artist_interest'])\n",
    "user_artist.orderBy('artist_interest', ascending=False).show(5)"
   ]
  },
  {
   "cell_type": "code",
   "execution_count": 28,
   "metadata": {},
   "outputs": [
    {
     "name": "stdout",
     "output_type": "stream",
     "text": [
      "+--------------------+--------+-----------------+\n",
      "|                User|language|language_interest|\n",
      "+--------------------+--------+-----------------+\n",
      "|MXIMDXO0j3UpaT7Fv...|    52.0|               51|\n",
      "|JkQacE3rvmhh65R04...|     3.0|               40|\n",
      "|SZ5NNypqaTWljFO1H...|    52.0|               32|\n",
      "|cqjRBV/jWN2ujhc+z...|     3.0|               31|\n",
      "|KGXNZ/H3VxvET/+rG...|     3.0|               30|\n",
      "+--------------------+--------+-----------------+\n",
      "only showing top 5 rows\n",
      "\n"
     ]
    }
   ],
   "source": [
    "user_language = train_cut_sample.select('msno','language').groupBy('msno','language').count().rdd.map(lambda x: x).toDF(['User', 'language', 'language_interest'])\n",
    "user_language.orderBy('language_interest', ascending=False).show(5)"
   ]
  },
  {
   "cell_type": "code",
   "execution_count": 29,
   "metadata": {},
   "outputs": [
    {
     "name": "stdout",
     "output_type": "stream",
     "text": [
      "+-----+--------------------+---------------+\n",
      "|genre|                song|song_popularity|\n",
      "+-----+--------------------+---------------+\n",
      "|  465|wBTWuHbjdjxnG1lQc...|            143|\n",
      "|  458|FynUyq0+drmIARmK1...|            141|\n",
      "|  458|reXuGcEWDDCnL0K3T...|            139|\n",
      "|  451|YN4T/yvvXtYrBVN8K...|            135|\n",
      "|  458|T86YHdD4C9JSc274b...|            121|\n",
      "+-----+--------------------+---------------+\n",
      "only showing top 5 rows\n",
      "\n"
     ]
    }
   ],
   "source": [
    "genre_pop = train_cut_sample.select('genre','song_id','msno').groupBy('genre','song_id').count().rdd.map(lambda x: x).toDF(['genre', 'song', 'song_popularity'])\n",
    "genre_pop.orderBy('song_popularity', ascending=False).show(5)"
   ]
  },
  {
   "cell_type": "code",
   "execution_count": 30,
   "metadata": {},
   "outputs": [
    {
     "name": "stdout",
     "output_type": "stream",
     "text": [
      "+-------------+--------------------+-----------------+\n",
      "|  artist_name|                song|artist_popularity|\n",
      "+-------------+--------------------+-----------------+\n",
      "|  Alan Walker|J4qKkLIoW7aYACuTu...|              211|\n",
      "|  Alan Walker|v/3onppBGoSpGsWb8...|              186|\n",
      "|  Alan Walker|zHqZ07gn+YvF36FWz...|              145|\n",
      "|田馥甄 (Hebe)|wBTWuHbjdjxnG1lQc...|              143|\n",
      "|  Eric 周興哲|FynUyq0+drmIARmK1...|              141|\n",
      "+-------------+--------------------+-----------------+\n",
      "only showing top 5 rows\n",
      "\n"
     ]
    }
   ],
   "source": [
    "artist_pop = train_cut_sample.select('artist_name','song_id','msno').groupBy('artist_name','song_id').count().rdd.map(lambda x: x).toDF(['artist_name', 'song', 'artist_popularity'])\n",
    "artist_pop.orderBy('artist_popularity', ascending=False).show(5)"
   ]
  },
  {
   "cell_type": "code",
   "execution_count": 31,
   "metadata": {},
   "outputs": [
    {
     "name": "stdout",
     "output_type": "stream",
     "text": [
      "+--------+--------------------+-------------------+\n",
      "|language|                song|language_popularity|\n",
      "+--------+--------------------+-------------------+\n",
      "|    52.0|J4qKkLIoW7aYACuTu...|                211|\n",
      "|    52.0|v/3onppBGoSpGsWb8...|                186|\n",
      "|    52.0|zHqZ07gn+YvF36FWz...|                145|\n",
      "|     3.0|wBTWuHbjdjxnG1lQc...|                143|\n",
      "|     3.0|FynUyq0+drmIARmK1...|                141|\n",
      "+--------+--------------------+-------------------+\n",
      "only showing top 5 rows\n",
      "\n"
     ]
    }
   ],
   "source": [
    "language_pop = train_cut_sample.select('language','song_id','msno').groupBy('language','song_id').count().rdd.map(lambda x: x).toDF(['language', 'song', 'language_popularity'])\n",
    "language_pop.orderBy('language_popularity', ascending=False).show(5)"
   ]
  },
  {
   "cell_type": "markdown",
   "metadata": {},
   "source": [
    "#User versus features\n",
    "features = genre, artist_name, language\n",
    "\n",
    "# songs versus features\n",
    "# same features"
   ]
  },
  {
   "cell_type": "code",
   "execution_count": 33,
   "metadata": {},
   "outputs": [
    {
     "data": {
      "text/plain": [
       "111"
      ]
     },
     "execution_count": 33,
     "metadata": {},
     "output_type": "execute_result"
    }
   ],
   "source": [
    "train_cut_sample.select('genre').distinct().count()"
   ]
  },
  {
   "cell_type": "code",
   "execution_count": 34,
   "metadata": {},
   "outputs": [
    {
     "data": {
      "text/plain": [
       "75846"
      ]
     },
     "execution_count": 34,
     "metadata": {},
     "output_type": "execute_result"
    }
   ],
   "source": [
    "train_cut_sample.select('msno').count()"
   ]
  },
  {
   "cell_type": "code",
   "execution_count": 35,
   "metadata": {},
   "outputs": [
    {
     "name": "stdout",
     "output_type": "stream",
     "text": [
      "+--------------------+-----+--------------+------------------+---------------+--------+-----------------+\n",
      "|                User|genre|genre_interest|       artist_name|artist_interest|language|language_interest|\n",
      "+--------------------+-----+--------------+------------------+---------------+--------+-----------------+\n",
      "|+XsXM6G4UNrdF3AWA...| 1259|             1|              ZIZO|              1|    31.0|                1|\n",
      "|+qr25BVs1befBijPS...|  921|             1|            玖壹壹|              1|     3.0|                2|\n",
      "|+qr25BVs1befBijPS...|  921|             1|            玖壹壹|              1|    52.0|                2|\n",
      "|+qr25BVs1befBijPS...|  921|             1|ZAYN| Taylor Swift|              1|     3.0|                2|\n",
      "|+qr25BVs1befBijPS...|  921|             1|ZAYN| Taylor Swift|              1|    52.0|                2|\n",
      "+--------------------+-----+--------------+------------------+---------------+--------+-----------------+\n",
      "only showing top 5 rows\n",
      "\n"
     ]
    }
   ],
   "source": [
    "User_side = user_genre.join(user_artist, \"User\", 'outer').join(user_language, 'User','outer')\n",
    "User_side.show(5)"
   ]
  },
  {
   "cell_type": "code",
   "execution_count": 36,
   "metadata": {},
   "outputs": [
    {
     "name": "stdout",
     "output_type": "stream",
     "text": [
      "+--------------------+-----+---------------+------------------+-----------------+--------+-------------------+\n",
      "|                song|genre|song_popularity|       artist_name|artist_popularity|language|language_popularity|\n",
      "+--------------------+-----+---------------+------------------+-----------------+--------+-------------------+\n",
      "|++XsB7MZl/8xl/d0/...|  947|              1|      C'est La Vie|                1|    -1.0|                  1|\n",
      "|+KgAKlO7+zYsMtKzu...| 2122|              1|   Astrud Gilberto|                1|    52.0|                  1|\n",
      "|+tGKT7z6HuwhZa8mR...|  465|              1|周華健 (Emil Chau)|                1|     3.0|                  1|\n",
      "|0yfLxyewedjmipOOl...|  465|              1|陳零九 (Nine Chen)|                1|     3.0|                  1|\n",
      "|1H7Za3rqrfGZhzWon...|  444|              3|      BANGTAN BOYS|                3|    31.0|                  3|\n",
      "+--------------------+-----+---------------+------------------+-----------------+--------+-------------------+\n",
      "only showing top 5 rows\n",
      "\n"
     ]
    }
   ],
   "source": [
    "song_side = genre_pop.join(artist_pop, 'song', 'outer').join(language_pop, \"song\", 'outer')\n",
    "song_side.show(5)"
   ]
  },
  {
   "cell_type": "code",
   "execution_count": 47,
   "metadata": {},
   "outputs": [],
   "source": [
    "from pyspark.ml.feature import StringIndexer"
   ]
  },
  {
   "cell_type": "code",
   "execution_count": 49,
   "metadata": {},
   "outputs": [],
   "source": [
    "indexer = StringIndexer(inputCol = \"User\", outputCol=\"UserIndex\")"
   ]
  },
  {
   "cell_type": "code",
   "execution_count": 76,
   "metadata": {},
   "outputs": [],
   "source": [
    "indexed = indexer.fit(user_genre).transform(user_genre).drop('User')"
   ]
  },
  {
   "cell_type": "code",
   "execution_count": 64,
   "metadata": {},
   "outputs": [
    {
     "name": "stdout",
     "output_type": "stream",
     "text": [
      "+--------------------+-----+--------------+---------+\n",
      "|                User|genre|genre_interest|UserIndex|\n",
      "+--------------------+-----+--------------+---------+\n",
      "|0i7inf0avDVGvwTaO...|  465|             6|    651.0|\n",
      "|z+Hwg8HsbuFiry5i3...| 2122|             2|    502.0|\n",
      "|2DnvslFy8Po3vODJc...|  465|             2|   3039.0|\n",
      "|qlmKslzUdQ8Ta3hbc...|  465|             2|  16734.0|\n",
      "|wobMEyGx2iCkFu27/...|  458|             6|    158.0|\n",
      "+--------------------+-----+--------------+---------+\n",
      "only showing top 5 rows\n",
      "\n"
     ]
    }
   ],
   "source": [
    "indexed.show(5)"
   ]
  },
  {
   "cell_type": "code",
   "execution_count": 77,
   "metadata": {},
   "outputs": [],
   "source": [
    "indexed = indexed.selectExpr('cast(genre as int) as genre_id', 'cast(UserIndex as int)', 'genre_interest')"
   ]
  },
  {
   "cell_type": "code",
   "execution_count": 78,
   "metadata": {},
   "outputs": [
    {
     "name": "stdout",
     "output_type": "stream",
     "text": [
      "root\n",
      " |-- genre_id: integer (nullable = true)\n",
      " |-- UserIndex: integer (nullable = true)\n",
      " |-- genre_interest: long (nullable = true)\n",
      "\n"
     ]
    }
   ],
   "source": [
    "indexed.printSchema()"
   ]
  },
  {
   "cell_type": "code",
   "execution_count": 79,
   "metadata": {},
   "outputs": [],
   "source": [
    "from pyspark.ml.recommendation import ALS\n",
    "from pyspark.sql import Row"
   ]
  },
  {
   "cell_type": "code",
   "execution_count": 80,
   "metadata": {},
   "outputs": [],
   "source": [
    "training, test = indexed.randomSplit([0.8,0.2])"
   ]
  },
  {
   "cell_type": "code",
   "execution_count": 81,
   "metadata": {},
   "outputs": [],
   "source": [
    "als = ALS()\\\n",
    ".setMaxIter(5)\\\n",
    ".setRegParam(0.01)\\\n",
    ".setUserCol(\"UserIndex\")\\\n",
    ".setItemCol(\"genre_id\")\\\n",
    ".setRatingCol(\"genre_interest\")"
   ]
  },
  {
   "cell_type": "code",
   "execution_count": 82,
   "metadata": {},
   "outputs": [
    {
     "name": "stdout",
     "output_type": "stream",
     "text": [
      "alpha: alpha for implicit preference (default: 1.0)\n",
      "checkpointInterval: set checkpoint interval (>= 1) or disable checkpoint (-1). E.g. 10 means that the cache will get checkpointed every 10 iterations. Note: this setting will be ignored if the checkpoint directory is not set in the SparkContext. (default: 10)\n",
      "coldStartStrategy: strategy for dealing with unknown or new users/items at prediction time. This may be useful in cross-validation or production scenarios, for handling user/item ids the model has not seen in the training data. Supported values: 'nan', 'drop'. (default: nan)\n",
      "finalStorageLevel: StorageLevel for ALS model factors. (default: MEMORY_AND_DISK)\n",
      "implicitPrefs: whether to use implicit preference (default: False)\n",
      "intermediateStorageLevel: StorageLevel for intermediate datasets. Cannot be 'NONE'. (default: MEMORY_AND_DISK)\n",
      "itemCol: column name for item ids. Ids must be within the integer value range. (default: item, current: genre_id)\n",
      "maxIter: max number of iterations (>= 0). (default: 10, current: 5)\n",
      "nonnegative: whether to use nonnegative constraint for least squares (default: False)\n",
      "numItemBlocks: number of item blocks (default: 10)\n",
      "numUserBlocks: number of user blocks (default: 10)\n",
      "predictionCol: prediction column name. (default: prediction)\n",
      "rank: rank of the factorization (default: 10)\n",
      "ratingCol: column name for ratings (default: rating, current: genre_interest)\n",
      "regParam: regularization parameter (>= 0). (default: 0.1, current: 0.01)\n",
      "seed: random seed. (default: -1170325964629160616)\n",
      "userCol: column name for user ids. Ids must be within the integer value range. (default: user, current: UserIndex)\n"
     ]
    }
   ],
   "source": [
    "print(als.explainParams())"
   ]
  },
  {
   "cell_type": "code",
   "execution_count": 84,
   "metadata": {},
   "outputs": [],
   "source": [
    "alsModel = als.fit(training)"
   ]
  },
  {
   "cell_type": "code",
   "execution_count": 85,
   "metadata": {},
   "outputs": [],
   "source": [
    "predictions = alsModel.transform(test)"
   ]
  },
  {
   "cell_type": "code",
   "execution_count": 96,
   "metadata": {},
   "outputs": [
    {
     "name": "stdout",
     "output_type": "stream",
     "text": [
      "+---------+-----------------+\n",
      "|UserIndex|      recommended|\n",
      "+---------+-----------------+\n",
      "|     1580| [843, 3.3595874]|\n",
      "|     1580|  [118, 2.572069]|\n",
      "|     1580| [509, 2.2984807]|\n",
      "|     1580|[1082, 2.1100183]|\n",
      "|     1580|[1103, 2.0543993]|\n",
      "|     1580|  [352, 2.052129]|\n",
      "|     1580| [857, 2.0425732]|\n",
      "|     1580|[2032, 1.8959343]|\n",
      "|     1580| [921, 1.8205051]|\n",
      "|     1580| [275, 1.8099238]|\n",
      "|     4900|[1082, 4.4741592]|\n",
      "|     4900|  [880, 3.775759]|\n",
      "|     4900|[2032, 3.0353377]|\n",
      "|     4900| [2086, 2.933754]|\n",
      "|     4900| [465, 2.9290452]|\n",
      "|     4900| [873, 2.6083477]|\n",
      "|     4900|[2206, 2.2229495]|\n",
      "|     4900| [698, 2.1499496]|\n",
      "|     4900| [275, 2.0739079]|\n",
      "|     4900|[1633, 1.9721645]|\n",
      "+---------+-----------------+\n",
      "only showing top 20 rows\n",
      "\n"
     ]
    }
   ],
   "source": [
    "alsModel.recommendForAllUsers(10).selectExpr('UserIndex', 'explode(recommendations) as recommended').show(20)"
   ]
  },
  {
   "cell_type": "code",
   "execution_count": null,
   "metadata": {},
   "outputs": [],
   "source": []
  }
 ],
 "metadata": {
  "kernelspec": {
   "display_name": "Python 3",
   "language": "python",
   "name": "python3"
  },
  "language_info": {
   "codemirror_mode": {
    "name": "ipython",
    "version": 3
   },
   "file_extension": ".py",
   "mimetype": "text/x-python",
   "name": "python",
   "nbconvert_exporter": "python",
   "pygments_lexer": "ipython3",
   "version": "3.7.4"
  }
 },
 "nbformat": 4,
 "nbformat_minor": 4
}
